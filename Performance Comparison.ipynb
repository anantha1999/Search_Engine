{
 "cells": [
  {
   "cell_type": "code",
   "execution_count": 50,
   "metadata": {},
   "outputs": [],
   "source": [
    "import matplotlib.pyplot as plt\n",
    "import numpy as np\n",
    "import pandas as pd\n",
    "from ast import literal_eval\n",
    "import pickle"
   ]
  },
  {
   "cell_type": "code",
   "execution_count": 51,
   "metadata": {},
   "outputs": [],
   "source": [
    "with open('relevant.pickle',\"rb\") as f:\n",
    "    relevant = pickle.load(f)"
   ]
  },
  {
   "cell_type": "code",
   "execution_count": 52,
   "metadata": {},
   "outputs": [],
   "source": [
    "with open('retrieved_mooz.pickle',\"rb\") as f:\n",
    "    retrieved = pickle.load(f)"
   ]
  },
  {
   "cell_type": "code",
   "execution_count": 53,
   "metadata": {},
   "outputs": [
    {
     "data": {
      "text/html": [
       "<div>\n",
       "<style scoped>\n",
       "    .dataframe tbody tr th:only-of-type {\n",
       "        vertical-align: middle;\n",
       "    }\n",
       "\n",
       "    .dataframe tbody tr th {\n",
       "        vertical-align: top;\n",
       "    }\n",
       "\n",
       "    .dataframe thead th {\n",
       "        text-align: right;\n",
       "    }\n",
       "</style>\n",
       "<table border=\"1\" class=\"dataframe\">\n",
       "  <thead>\n",
       "    <tr style=\"text-align: right;\">\n",
       "      <th></th>\n",
       "      <th>trump</th>\n",
       "      <th>global warming</th>\n",
       "      <th>climate change</th>\n",
       "      <th>global warming is a hoax</th>\n",
       "      <th>rising ocean temperatures</th>\n",
       "      <th>next year's midterm elections</th>\n",
       "      <th>queensland coast in australia's north east</th>\n",
       "      <th>waste water purification</th>\n",
       "      <th>hole in the ozone layer</th>\n",
       "      <th>biggest long-term threat facing the reef</th>\n",
       "    </tr>\n",
       "  </thead>\n",
       "  <tbody>\n",
       "    <tr>\n",
       "      <th>snippet</th>\n",
       "      <td>[calling. donald trump, who said climate chang...</td>\n",
       "      <td>[global warming including global cooling, glob...</td>\n",
       "      <td>[on climate change? and blame the tsunami on c...</td>\n",
       "      <td>[news just called it the great freeze, is our ...</td>\n",
       "      <td>[neighbouring ones. what is the solution? risi...</td>\n",
       "      <td>[about climate change. much of their anger was...</td>\n",
       "      <td>[drive out the algae that give them colour. an...</td>\n",
       "      <td>[mccarthy cared about was climate change, they...</td>\n",
       "      <td>[effective version of a carbon tax, in favor o...</td>\n",
       "      <td>[on climate change. the government in canberra...</td>\n",
       "    </tr>\n",
       "    <tr>\n",
       "      <th>time</th>\n",
       "      <td>1.1673</td>\n",
       "      <td>0.95575</td>\n",
       "      <td>2.32332</td>\n",
       "      <td>1.65279</td>\n",
       "      <td>0.121295</td>\n",
       "      <td>0.181505</td>\n",
       "      <td>0.997714</td>\n",
       "      <td>0.0363712</td>\n",
       "      <td>0.97001</td>\n",
       "      <td>0.993939</td>\n",
       "    </tr>\n",
       "  </tbody>\n",
       "</table>\n",
       "</div>"
      ],
      "text/plain": [
       "                                                     trump  \\\n",
       "snippet  [calling. donald trump, who said climate chang...   \n",
       "time                                                1.1673   \n",
       "\n",
       "                                            global warming  \\\n",
       "snippet  [global warming including global cooling, glob...   \n",
       "time                                               0.95575   \n",
       "\n",
       "                                            climate change  \\\n",
       "snippet  [on climate change? and blame the tsunami on c...   \n",
       "time                                               2.32332   \n",
       "\n",
       "                                  global warming is a hoax  \\\n",
       "snippet  [news just called it the great freeze, is our ...   \n",
       "time                                               1.65279   \n",
       "\n",
       "                                 rising ocean temperatures  \\\n",
       "snippet  [neighbouring ones. what is the solution? risi...   \n",
       "time                                              0.121295   \n",
       "\n",
       "                             next year's midterm elections  \\\n",
       "snippet  [about climate change. much of their anger was...   \n",
       "time                                              0.181505   \n",
       "\n",
       "                queensland coast in australia's north east  \\\n",
       "snippet  [drive out the algae that give them colour. an...   \n",
       "time                                              0.997714   \n",
       "\n",
       "                                  waste water purification  \\\n",
       "snippet  [mccarthy cared about was climate change, they...   \n",
       "time                                             0.0363712   \n",
       "\n",
       "                                   hole in the ozone layer  \\\n",
       "snippet  [effective version of a carbon tax, in favor o...   \n",
       "time                                               0.97001   \n",
       "\n",
       "                  biggest long-term threat facing the reef  \n",
       "snippet  [on climate change. the government in canberra...  \n",
       "time                                              0.993939  "
      ]
     },
     "execution_count": 53,
     "metadata": {},
     "output_type": "execute_result"
    }
   ],
   "source": [
    "relevant"
   ]
  },
  {
   "cell_type": "code",
   "execution_count": 54,
   "metadata": {},
   "outputs": [
    {
     "data": {
      "text/html": [
       "<div>\n",
       "<style scoped>\n",
       "    .dataframe tbody tr th:only-of-type {\n",
       "        vertical-align: middle;\n",
       "    }\n",
       "\n",
       "    .dataframe tbody tr th {\n",
       "        vertical-align: top;\n",
       "    }\n",
       "\n",
       "    .dataframe thead th {\n",
       "        text-align: right;\n",
       "    }\n",
       "</style>\n",
       "<table border=\"1\" class=\"dataframe\">\n",
       "  <thead>\n",
       "    <tr style=\"text-align: right;\">\n",
       "      <th></th>\n",
       "      <th>trump</th>\n",
       "      <th>global warming</th>\n",
       "      <th>climate change</th>\n",
       "      <th>global warming is a hoax</th>\n",
       "      <th>rising ocean temperatures</th>\n",
       "      <th>next year's midterm elections</th>\n",
       "      <th>queensland coast in australia's north east</th>\n",
       "      <th>waste water purification</th>\n",
       "      <th>hole in the ozone layer</th>\n",
       "      <th>biggest long-term threat facing the reef</th>\n",
       "    </tr>\n",
       "  </thead>\n",
       "  <tbody>\n",
       "    <tr>\n",
       "      <th>snippets</th>\n",
       "      <td>[over climate change. president trump tweeted ...</td>\n",
       "      <td>[addressing global warm and striking a balance...</td>\n",
       "      <td>[obamao. beto o'rourke dropping his climate ch...</td>\n",
       "      <td>[i'll say this, listen, chris, the republican ...</td>\n",
       "      <td>[the ocean. d. just think about this for a min...</td>\n",
       "      <td>[order republicans to prevail on doing anythin...</td>\n",
       "      <td>[drive out the algae that give them colour. an...</td>\n",
       "      <td>[the united nations is warning there will be w...</td>\n",
       "      <td>[there is smoke, they generate a lot of pm 2.5...</td>\n",
       "      <td>[climate change, the biggest existential threa...</td>\n",
       "    </tr>\n",
       "    <tr>\n",
       "      <th>time</th>\n",
       "      <td>5.11809</td>\n",
       "      <td>7.89749</td>\n",
       "      <td>13.9499</td>\n",
       "      <td>9.54989</td>\n",
       "      <td>7.57889</td>\n",
       "      <td>11.8491</td>\n",
       "      <td>5.25233</td>\n",
       "      <td>4.9336</td>\n",
       "      <td>0.583165</td>\n",
       "      <td>8.17648</td>\n",
       "    </tr>\n",
       "  </tbody>\n",
       "</table>\n",
       "</div>"
      ],
      "text/plain": [
       "                                                      trump  \\\n",
       "snippets  [over climate change. president trump tweeted ...   \n",
       "time                                                5.11809   \n",
       "\n",
       "                                             global warming  \\\n",
       "snippets  [addressing global warm and striking a balance...   \n",
       "time                                                7.89749   \n",
       "\n",
       "                                             climate change  \\\n",
       "snippets  [obamao. beto o'rourke dropping his climate ch...   \n",
       "time                                                13.9499   \n",
       "\n",
       "                                   global warming is a hoax  \\\n",
       "snippets  [i'll say this, listen, chris, the republican ...   \n",
       "time                                                9.54989   \n",
       "\n",
       "                                  rising ocean temperatures  \\\n",
       "snippets  [the ocean. d. just think about this for a min...   \n",
       "time                                                7.57889   \n",
       "\n",
       "                              next year's midterm elections  \\\n",
       "snippets  [order republicans to prevail on doing anythin...   \n",
       "time                                                11.8491   \n",
       "\n",
       "                 queensland coast in australia's north east  \\\n",
       "snippets  [drive out the algae that give them colour. an...   \n",
       "time                                                5.25233   \n",
       "\n",
       "                                   waste water purification  \\\n",
       "snippets  [the united nations is warning there will be w...   \n",
       "time                                                 4.9336   \n",
       "\n",
       "                                    hole in the ozone layer  \\\n",
       "snippets  [there is smoke, they generate a lot of pm 2.5...   \n",
       "time                                               0.583165   \n",
       "\n",
       "                   biggest long-term threat facing the reef  \n",
       "snippets  [climate change, the biggest existential threa...  \n",
       "time                                                8.17648  "
      ]
     },
     "execution_count": 54,
     "metadata": {},
     "output_type": "execute_result"
    }
   ],
   "source": [
    "retrieved"
   ]
  },
  {
   "cell_type": "code",
   "execution_count": 55,
   "metadata": {},
   "outputs": [
    {
     "name": "stdout",
     "output_type": "stream",
     "text": [
      "Precison:  0.15300127713920816\n",
      "Recall:  0.022679085264273816\n"
     ]
    }
   ],
   "source": [
    "pnum = 0\n",
    "pden = 0\n",
    "rden=0\n",
    "\n",
    "queryfile=\"sample_queries\"\n",
    "inputfile= open(queryfile,\"r\")\n",
    "q=[]\n",
    "#Precision=Total number of documents retrieved that are relevant/Total number of documents that are retrieved.\n",
    "#Recall=Total number of documents retrieved that are relevant/Total number of relevant documents in the database.\n",
    "for line in (inputfile.read().split('\\n')):\n",
    "    q.append(line)\n",
    "    pnum+=len(set((retrieved[line][0])).intersection((relevant[line][0])))\n",
    "    pden+=len(set(retrieved[line][0]))\n",
    "    rden+=len(set(relevant[line][0]))\n",
    "print(\"Precison: \",pnum/pden)\n",
    "print(\"Recall: \",pnum/rden)\n",
    "inputfile.close()"
   ]
  },
  {
   "cell_type": "code",
   "execution_count": 47,
   "metadata": {},
   "outputs": [],
   "source": [
    "p=[]\n",
    "r=[]\n",
    "\n",
    "for k in range(1,1000,10):\n",
    "    for line in q:\n",
    "        #print(line)\n",
    "        pnum+=len(set((retrieved[line][0][:k])).intersection((relevant[line][0])))\n",
    "        pden+=len(set(retrieved[line][0][:k]))\n",
    "        rden+=len(set(relevant[line][0]))\n",
    "    p.append(pnum/pden)\n",
    "    r.append(pnum/rden)"
   ]
  },
  {
   "cell_type": "code",
   "execution_count": 48,
   "metadata": {},
   "outputs": [
    {
     "data": {
      "image/png": "[encoded data removed]",
      "text/plain": [
       "<Figure size 1000x500 with 1 Axes>"
      ]
     },
     "metadata": {
      "needs_background": "light"
     },
     "output_type": "display_data"
    }
   ],
   "source": [
    "plt.figure(figsize=(10, 5), dpi=100)\n",
    "plt.plot(r, p)\n",
    "plt.xlabel(\"Recall\")\n",
    "plt.title('Precision Recall Curve')\n",
    "plt.ylabel(\"Precision\")\n",
    "plt.show()"
   ]
  },
  {
   "cell_type": "code",
   "execution_count": 49,
   "metadata": {},
   "outputs": [
    {
     "data": {
      "image/png": "[encoded data removed]",
      "text/plain": [
       "<Figure size 800x600 with 1 Axes>"
      ]
     },
     "metadata": {
      "needs_background": "light"
     },
     "output_type": "display_data"
    }
   ],
   "source": [
    "plt.figure(figsize=(8, 6), dpi=100)\n",
    "ind = np.arange(10) \n",
    "width = 0.35       \n",
    "plt.bar(ind, list(retrieved.loc[\"time\"]), width, label='Our Search Engine')\n",
    "plt.bar(ind + width, list(relevant.loc[\"time\"]), width,\n",
    "    label='Elastic search')\n",
    "\n",
    "plt.xlabel(\"Query \")\n",
    "plt.ylabel('Time')\n",
    "plt.title('Time taken')\n",
    "\n",
    "plt.legend(loc='upper right')\n",
    "plt.show()"
   ]
  },
  {
   "cell_type": "code",
   "execution_count": null,
   "metadata": {},
   "outputs": [],
   "source": []
  }
 ],
 "metadata": {
  "kernelspec": {
   "display_name": "Python 3",
   "language": "python",
   "name": "python3"
  },
  "language_info": {
   "codemirror_mode": {
    "name": "ipython",
    "version": 3
   },
   "file_extension": ".py",
   "mimetype": "text/x-python",
   "name": "python",
   "nbconvert_exporter": "python",
   "pygments_lexer": "ipython3",
   "version": "3.7.3"
  }
 },
 "nbformat": 4,
 "nbformat_minor": 2
}
